{
  "nbformat": 4,
  "nbformat_minor": 0,
  "metadata": {
    "colab": {
      "provenance": [],
      "authorship_tag": "ABX9TyOvpzHiTNBwdGFXf2tVBL/X",
      "include_colab_link": true
    },
    "kernelspec": {
      "name": "python3",
      "display_name": "Python 3"
    },
    "language_info": {
      "name": "python"
    }
  },
  "cells": [
    {
      "cell_type": "markdown",
      "metadata": {
        "id": "view-in-github",
        "colab_type": "text"
      },
      "source": [
        "<a href=\"https://colab.research.google.com/github/stevengregori92/Predict-with-Lasso/blob/main/Predict_with_Lasso.ipynb\" target=\"_parent\"><img src=\"https://colab.research.google.com/assets/colab-badge.svg\" alt=\"Open In Colab\"/></a>"
      ]
    },
    {
      "cell_type": "markdown",
      "source": [
        "#Import Libraries"
      ],
      "metadata": {
        "id": "DyZWuoPJYljG"
      }
    },
    {
      "cell_type": "code",
      "execution_count": null,
      "metadata": {
        "id": "4Y7cVyA0GqQU"
      },
      "outputs": [],
      "source": [
        "import pandas as pd\n",
        "from sklearn.linear_model import LassoCV\n",
        "from sklearn.preprocessing import MinMaxScaler\n",
        "from sklearn.preprocessing import MaxAbsScaler\n",
        "from sklearn.preprocessing import StandardScaler\n",
        "from sklearn.metrics import r2_score\n",
        "from sklearn.model_selection import train_test_split\n",
        "from sklearn.inspection import permutation_importance"
      ]
    },
    {
      "cell_type": "markdown",
      "source": [
        "#Import Dataset"
      ],
      "metadata": {
        "id": "Xibc6g74Yor1"
      }
    },
    {
      "cell_type": "code",
      "source": [
        "data = pd.read_csv('macro_monthly.csv')\n",
        "data"
      ],
      "metadata": {
        "colab": {
          "base_uri": "https://localhost:8080/",
          "height": 424
        },
        "id": "KdtrHbFxG4Rs",
        "outputId": "c7bf9895-eb2d-4d8a-e415-fad9486e5e75"
      },
      "execution_count": null,
      "outputs": [
        {
          "output_type": "execute_result",
          "data": {
            "text/plain": [
              "           DATE  unrate   psr         m2    dspic      pce    reer         ir  \\\n",
              "0    1981-01-01     7.5  10.9   1612.900   4980.4   1870.0     NaN  12.568571   \n",
              "1    1981-02-01     7.4  10.8   1608.125   4965.0   1884.2     NaN  13.194444   \n",
              "2    1981-03-01     7.4  10.8   1629.400   4979.0   1902.9     NaN  13.115909   \n",
              "3    1981-04-01     7.2  10.9   1665.575   4965.1   1904.4     NaN  13.679524   \n",
              "4    1981-05-01     7.5  11.0   1655.150   4974.8   1913.8     NaN  14.099500   \n",
              "..          ...     ...   ...        ...      ...      ...     ...        ...   \n",
              "485  2021-06-01     5.9   9.5  20463.275  15603.3  15802.0  115.39   1.519091   \n",
              "486  2021-07-01     5.4  10.6  20589.975  15739.4  15804.8  117.01   1.318571   \n",
              "487  2021-08-01     5.2   9.9  20788.780  15723.0  15975.8  117.27   1.283182   \n",
              "488  2021-09-01     4.8   8.2  20981.450  15468.7  16076.4  117.16   1.374762   \n",
              "489  2021-10-01     4.6   7.3  21152.350  15425.2  16290.7  118.10   1.582500   \n",
              "\n",
              "          ffer        tcs    indpro     ccpi  \n",
              "0    19.084516        NaN   51.1668   85.400  \n",
              "1    15.934286        NaN   50.9509   85.900  \n",
              "2    14.703871        NaN   51.2066   86.400  \n",
              "3    15.719000        NaN   50.9711   87.000  \n",
              "4    18.517742        NaN   51.2645   87.800  \n",
              "..         ...        ...       ...      ...  \n",
              "485   0.078000  1579265.0  100.4704  278.140  \n",
              "486   0.098065  1581128.0  101.2442  279.054  \n",
              "487   0.092258  1596816.0  101.1061  279.338  \n",
              "488   0.079333  1594756.0  100.0811  280.017  \n",
              "489   0.079032  1598020.0  101.7610  281.695  \n",
              "\n",
              "[490 rows x 12 columns]"
            ],
            "text/html": [
              "\n",
              "  <div id=\"df-022ebb9b-6db8-4df7-94cb-00ef36dceb92\">\n",
              "    <div class=\"colab-df-container\">\n",
              "      <div>\n",
              "<style scoped>\n",
              "    .dataframe tbody tr th:only-of-type {\n",
              "        vertical-align: middle;\n",
              "    }\n",
              "\n",
              "    .dataframe tbody tr th {\n",
              "        vertical-align: top;\n",
              "    }\n",
              "\n",
              "    .dataframe thead th {\n",
              "        text-align: right;\n",
              "    }\n",
              "</style>\n",
              "<table border=\"1\" class=\"dataframe\">\n",
              "  <thead>\n",
              "    <tr style=\"text-align: right;\">\n",
              "      <th></th>\n",
              "      <th>DATE</th>\n",
              "      <th>unrate</th>\n",
              "      <th>psr</th>\n",
              "      <th>m2</th>\n",
              "      <th>dspic</th>\n",
              "      <th>pce</th>\n",
              "      <th>reer</th>\n",
              "      <th>ir</th>\n",
              "      <th>ffer</th>\n",
              "      <th>tcs</th>\n",
              "      <th>indpro</th>\n",
              "      <th>ccpi</th>\n",
              "    </tr>\n",
              "  </thead>\n",
              "  <tbody>\n",
              "    <tr>\n",
              "      <th>0</th>\n",
              "      <td>1981-01-01</td>\n",
              "      <td>7.5</td>\n",
              "      <td>10.9</td>\n",
              "      <td>1612.900</td>\n",
              "      <td>4980.4</td>\n",
              "      <td>1870.0</td>\n",
              "      <td>NaN</td>\n",
              "      <td>12.568571</td>\n",
              "      <td>19.084516</td>\n",
              "      <td>NaN</td>\n",
              "      <td>51.1668</td>\n",
              "      <td>85.400</td>\n",
              "    </tr>\n",
              "    <tr>\n",
              "      <th>1</th>\n",
              "      <td>1981-02-01</td>\n",
              "      <td>7.4</td>\n",
              "      <td>10.8</td>\n",
              "      <td>1608.125</td>\n",
              "      <td>4965.0</td>\n",
              "      <td>1884.2</td>\n",
              "      <td>NaN</td>\n",
              "      <td>13.194444</td>\n",
              "      <td>15.934286</td>\n",
              "      <td>NaN</td>\n",
              "      <td>50.9509</td>\n",
              "      <td>85.900</td>\n",
              "    </tr>\n",
              "    <tr>\n",
              "      <th>2</th>\n",
              "      <td>1981-03-01</td>\n",
              "      <td>7.4</td>\n",
              "      <td>10.8</td>\n",
              "      <td>1629.400</td>\n",
              "      <td>4979.0</td>\n",
              "      <td>1902.9</td>\n",
              "      <td>NaN</td>\n",
              "      <td>13.115909</td>\n",
              "      <td>14.703871</td>\n",
              "      <td>NaN</td>\n",
              "      <td>51.2066</td>\n",
              "      <td>86.400</td>\n",
              "    </tr>\n",
              "    <tr>\n",
              "      <th>3</th>\n",
              "      <td>1981-04-01</td>\n",
              "      <td>7.2</td>\n",
              "      <td>10.9</td>\n",
              "      <td>1665.575</td>\n",
              "      <td>4965.1</td>\n",
              "      <td>1904.4</td>\n",
              "      <td>NaN</td>\n",
              "      <td>13.679524</td>\n",
              "      <td>15.719000</td>\n",
              "      <td>NaN</td>\n",
              "      <td>50.9711</td>\n",
              "      <td>87.000</td>\n",
              "    </tr>\n",
              "    <tr>\n",
              "      <th>4</th>\n",
              "      <td>1981-05-01</td>\n",
              "      <td>7.5</td>\n",
              "      <td>11.0</td>\n",
              "      <td>1655.150</td>\n",
              "      <td>4974.8</td>\n",
              "      <td>1913.8</td>\n",
              "      <td>NaN</td>\n",
              "      <td>14.099500</td>\n",
              "      <td>18.517742</td>\n",
              "      <td>NaN</td>\n",
              "      <td>51.2645</td>\n",
              "      <td>87.800</td>\n",
              "    </tr>\n",
              "    <tr>\n",
              "      <th>...</th>\n",
              "      <td>...</td>\n",
              "      <td>...</td>\n",
              "      <td>...</td>\n",
              "      <td>...</td>\n",
              "      <td>...</td>\n",
              "      <td>...</td>\n",
              "      <td>...</td>\n",
              "      <td>...</td>\n",
              "      <td>...</td>\n",
              "      <td>...</td>\n",
              "      <td>...</td>\n",
              "      <td>...</td>\n",
              "    </tr>\n",
              "    <tr>\n",
              "      <th>485</th>\n",
              "      <td>2021-06-01</td>\n",
              "      <td>5.9</td>\n",
              "      <td>9.5</td>\n",
              "      <td>20463.275</td>\n",
              "      <td>15603.3</td>\n",
              "      <td>15802.0</td>\n",
              "      <td>115.39</td>\n",
              "      <td>1.519091</td>\n",
              "      <td>0.078000</td>\n",
              "      <td>1579265.0</td>\n",
              "      <td>100.4704</td>\n",
              "      <td>278.140</td>\n",
              "    </tr>\n",
              "    <tr>\n",
              "      <th>486</th>\n",
              "      <td>2021-07-01</td>\n",
              "      <td>5.4</td>\n",
              "      <td>10.6</td>\n",
              "      <td>20589.975</td>\n",
              "      <td>15739.4</td>\n",
              "      <td>15804.8</td>\n",
              "      <td>117.01</td>\n",
              "      <td>1.318571</td>\n",
              "      <td>0.098065</td>\n",
              "      <td>1581128.0</td>\n",
              "      <td>101.2442</td>\n",
              "      <td>279.054</td>\n",
              "    </tr>\n",
              "    <tr>\n",
              "      <th>487</th>\n",
              "      <td>2021-08-01</td>\n",
              "      <td>5.2</td>\n",
              "      <td>9.9</td>\n",
              "      <td>20788.780</td>\n",
              "      <td>15723.0</td>\n",
              "      <td>15975.8</td>\n",
              "      <td>117.27</td>\n",
              "      <td>1.283182</td>\n",
              "      <td>0.092258</td>\n",
              "      <td>1596816.0</td>\n",
              "      <td>101.1061</td>\n",
              "      <td>279.338</td>\n",
              "    </tr>\n",
              "    <tr>\n",
              "      <th>488</th>\n",
              "      <td>2021-09-01</td>\n",
              "      <td>4.8</td>\n",
              "      <td>8.2</td>\n",
              "      <td>20981.450</td>\n",
              "      <td>15468.7</td>\n",
              "      <td>16076.4</td>\n",
              "      <td>117.16</td>\n",
              "      <td>1.374762</td>\n",
              "      <td>0.079333</td>\n",
              "      <td>1594756.0</td>\n",
              "      <td>100.0811</td>\n",
              "      <td>280.017</td>\n",
              "    </tr>\n",
              "    <tr>\n",
              "      <th>489</th>\n",
              "      <td>2021-10-01</td>\n",
              "      <td>4.6</td>\n",
              "      <td>7.3</td>\n",
              "      <td>21152.350</td>\n",
              "      <td>15425.2</td>\n",
              "      <td>16290.7</td>\n",
              "      <td>118.10</td>\n",
              "      <td>1.582500</td>\n",
              "      <td>0.079032</td>\n",
              "      <td>1598020.0</td>\n",
              "      <td>101.7610</td>\n",
              "      <td>281.695</td>\n",
              "    </tr>\n",
              "  </tbody>\n",
              "</table>\n",
              "<p>490 rows × 12 columns</p>\n",
              "</div>\n",
              "      <button class=\"colab-df-convert\" onclick=\"convertToInteractive('df-022ebb9b-6db8-4df7-94cb-00ef36dceb92')\"\n",
              "              title=\"Convert this dataframe to an interactive table.\"\n",
              "              style=\"display:none;\">\n",
              "        \n",
              "  <svg xmlns=\"http://www.w3.org/2000/svg\" height=\"24px\"viewBox=\"0 0 24 24\"\n",
              "       width=\"24px\">\n",
              "    <path d=\"M0 0h24v24H0V0z\" fill=\"none\"/>\n",
              "    <path d=\"M18.56 5.44l.94 2.06.94-2.06 2.06-.94-2.06-.94-.94-2.06-.94 2.06-2.06.94zm-11 1L8.5 8.5l.94-2.06 2.06-.94-2.06-.94L8.5 2.5l-.94 2.06-2.06.94zm10 10l.94 2.06.94-2.06 2.06-.94-2.06-.94-.94-2.06-.94 2.06-2.06.94z\"/><path d=\"M17.41 7.96l-1.37-1.37c-.4-.4-.92-.59-1.43-.59-.52 0-1.04.2-1.43.59L10.3 9.45l-7.72 7.72c-.78.78-.78 2.05 0 2.83L4 21.41c.39.39.9.59 1.41.59.51 0 1.02-.2 1.41-.59l7.78-7.78 2.81-2.81c.8-.78.8-2.07 0-2.86zM5.41 20L4 18.59l7.72-7.72 1.47 1.35L5.41 20z\"/>\n",
              "  </svg>\n",
              "      </button>\n",
              "      \n",
              "  <style>\n",
              "    .colab-df-container {\n",
              "      display:flex;\n",
              "      flex-wrap:wrap;\n",
              "      gap: 12px;\n",
              "    }\n",
              "\n",
              "    .colab-df-convert {\n",
              "      background-color: #E8F0FE;\n",
              "      border: none;\n",
              "      border-radius: 50%;\n",
              "      cursor: pointer;\n",
              "      display: none;\n",
              "      fill: #1967D2;\n",
              "      height: 32px;\n",
              "      padding: 0 0 0 0;\n",
              "      width: 32px;\n",
              "    }\n",
              "\n",
              "    .colab-df-convert:hover {\n",
              "      background-color: #E2EBFA;\n",
              "      box-shadow: 0px 1px 2px rgba(60, 64, 67, 0.3), 0px 1px 3px 1px rgba(60, 64, 67, 0.15);\n",
              "      fill: #174EA6;\n",
              "    }\n",
              "\n",
              "    [theme=dark] .colab-df-convert {\n",
              "      background-color: #3B4455;\n",
              "      fill: #D2E3FC;\n",
              "    }\n",
              "\n",
              "    [theme=dark] .colab-df-convert:hover {\n",
              "      background-color: #434B5C;\n",
              "      box-shadow: 0px 1px 3px 1px rgba(0, 0, 0, 0.15);\n",
              "      filter: drop-shadow(0px 1px 2px rgba(0, 0, 0, 0.3));\n",
              "      fill: #FFFFFF;\n",
              "    }\n",
              "  </style>\n",
              "\n",
              "      <script>\n",
              "        const buttonEl =\n",
              "          document.querySelector('#df-022ebb9b-6db8-4df7-94cb-00ef36dceb92 button.colab-df-convert');\n",
              "        buttonEl.style.display =\n",
              "          google.colab.kernel.accessAllowed ? 'block' : 'none';\n",
              "\n",
              "        async function convertToInteractive(key) {\n",
              "          const element = document.querySelector('#df-022ebb9b-6db8-4df7-94cb-00ef36dceb92');\n",
              "          const dataTable =\n",
              "            await google.colab.kernel.invokeFunction('convertToInteractive',\n",
              "                                                     [key], {});\n",
              "          if (!dataTable) return;\n",
              "\n",
              "          const docLinkHtml = 'Like what you see? Visit the ' +\n",
              "            '<a target=\"_blank\" href=https://colab.research.google.com/notebooks/data_table.ipynb>data table notebook</a>'\n",
              "            + ' to learn more about interactive tables.';\n",
              "          element.innerHTML = '';\n",
              "          dataTable['output_type'] = 'display_data';\n",
              "          await google.colab.output.renderOutput(dataTable, element);\n",
              "          const docLink = document.createElement('div');\n",
              "          docLink.innerHTML = docLinkHtml;\n",
              "          element.appendChild(docLink);\n",
              "        }\n",
              "      </script>\n",
              "    </div>\n",
              "  </div>\n",
              "  "
            ]
          },
          "metadata": {},
          "execution_count": 170
        }
      ]
    },
    {
      "cell_type": "markdown",
      "source": [
        "#Explore Dataset"
      ],
      "metadata": {
        "id": "MCS2wgT-Y8zQ"
      }
    },
    {
      "cell_type": "code",
      "source": [
        "len(data), len(data.dropna())"
      ],
      "metadata": {
        "colab": {
          "base_uri": "https://localhost:8080/"
        },
        "id": "W2iBrE48bqPe",
        "outputId": "8149f4e0-ef7a-4ec9-e00a-7b97222bded0"
      },
      "execution_count": null,
      "outputs": [
        {
          "output_type": "execute_result",
          "data": {
            "text/plain": [
              "(490, 334)"
            ]
          },
          "metadata": {},
          "execution_count": 171
        }
      ]
    },
    {
      "cell_type": "code",
      "source": [
        "data = data.dropna()"
      ],
      "metadata": {
        "id": "PrpcyayfbuBk"
      },
      "execution_count": null,
      "outputs": []
    },
    {
      "cell_type": "code",
      "source": [
        "data.info()"
      ],
      "metadata": {
        "id": "LOyASArrHF-i",
        "colab": {
          "base_uri": "https://localhost:8080/"
        },
        "outputId": "5cfb0a18-483e-407d-8d03-f732b24c254a"
      },
      "execution_count": null,
      "outputs": [
        {
          "output_type": "stream",
          "name": "stdout",
          "text": [
            "<class 'pandas.core.frame.DataFrame'>\n",
            "Int64Index: 334 entries, 156 to 489\n",
            "Data columns (total 12 columns):\n",
            " #   Column  Non-Null Count  Dtype  \n",
            "---  ------  --------------  -----  \n",
            " 0   DATE    334 non-null    object \n",
            " 1   unrate  334 non-null    float64\n",
            " 2   psr     334 non-null    float64\n",
            " 3   m2      334 non-null    float64\n",
            " 4   dspic   334 non-null    float64\n",
            " 5   pce     334 non-null    float64\n",
            " 6   reer    334 non-null    float64\n",
            " 7   ir      334 non-null    float64\n",
            " 8   ffer    334 non-null    float64\n",
            " 9   tcs     334 non-null    float64\n",
            " 10  indpro  334 non-null    float64\n",
            " 11  ccpi    334 non-null    float64\n",
            "dtypes: float64(11), object(1)\n",
            "memory usage: 33.9+ KB\n"
          ]
        }
      ]
    },
    {
      "cell_type": "markdown",
      "source": [
        "#Analyse Data"
      ],
      "metadata": {
        "id": "8SzjzqfuZTM3"
      }
    },
    {
      "cell_type": "code",
      "source": [
        "X = data.drop(['DATE', 'ccpi'], axis = 1)\n",
        "y = data['ccpi']"
      ],
      "metadata": {
        "id": "oYeULn0GZBNX"
      },
      "execution_count": null,
      "outputs": []
    },
    {
      "cell_type": "code",
      "source": [
        "X_train, X_test, y_train, y_test = train_test_split(X,y, test_size = .25, random_state = 42)"
      ],
      "metadata": {
        "id": "k42jvQIMb8Sp"
      },
      "execution_count": null,
      "outputs": []
    },
    {
      "cell_type": "markdown",
      "source": [
        "Normalised"
      ],
      "metadata": {
        "id": "1IseWcU4cWUx"
      }
    },
    {
      "cell_type": "code",
      "source": [
        "norm = MinMaxScaler().fit(X_train)\n",
        "\n",
        "X_train_norm = norm.transform(X_train)\n",
        "X_test_norm = norm.transform(X_test)"
      ],
      "metadata": {
        "id": "JM511WBccBAC"
      },
      "execution_count": null,
      "outputs": []
    },
    {
      "cell_type": "markdown",
      "source": [
        "Standardised"
      ],
      "metadata": {
        "id": "57GRHWubcX0s"
      }
    },
    {
      "cell_type": "code",
      "source": [
        "stand = StandardScaler().fit(X_train)\n",
        "\n",
        "X_train_stand = stand.transform(X_train)\n",
        "X_test_stand = stand.transform(X_test)"
      ],
      "metadata": {
        "id": "COjNX7IucDd5"
      },
      "execution_count": null,
      "outputs": []
    },
    {
      "cell_type": "code",
      "source": [
        "abs = MaxAbsScaler().fit(X_train)\n",
        "\n",
        "X_train_abs = abs.transform(X_train)\n",
        "X_test_abs = abs.transform(X_test)"
      ],
      "metadata": {
        "id": "0UsJ_RzJoG15"
      },
      "execution_count": null,
      "outputs": []
    },
    {
      "cell_type": "markdown",
      "source": [
        "Compare Test"
      ],
      "metadata": {
        "id": "uKFECx6CcdJ4"
      }
    },
    {
      "cell_type": "code",
      "source": [
        "score=[]\n",
        "\n",
        "trainX = [X_train, X_train_norm, X_train_stand, X_train_abs]\n",
        "testX = [X_test, X_test_norm, X_test_stand, X_test_abs]\n",
        "\n",
        "for X_train_set, X_test_set in zip(trainX, testX):\n",
        "  lasso = LassoCV()\n",
        "\n",
        "  lasso.fit(X_train_set, y_train)\n",
        "  y_pred = lasso.predict(X_test_set)\n",
        "  accuracy = r2_score(y_pred, y_test)"
      ],
      "metadata": {
        "colab": {
          "base_uri": "https://localhost:8080/"
        },
        "id": "W_c_clYRcN7R",
        "outputId": "4eda5717-56ad-492e-c3e3-731cdcc0bb46"
      },
      "execution_count": null,
      "outputs": [
        {
          "output_type": "stream",
          "name": "stderr",
          "text": [
            "/usr/local/lib/python3.9/dist-packages/sklearn/linear_model/_coordinate_descent.py:631: ConvergenceWarning: Objective did not converge. You might want to increase the number of iterations, check the scale of the features or consider increasing regularisation. Duality gap: 3.486e+01, tolerance: 2.828e+01\n",
            "  model = cd_fast.enet_coordinate_descent(\n"
          ]
        }
      ]
    },
    {
      "cell_type": "code",
      "source": [
        "pd.DataFrame({'score':accuracy}, index = ['Organised', 'Normalized', 'Standardized', \"ABS\"])"
      ],
      "metadata": {
        "colab": {
          "base_uri": "https://localhost:8080/",
          "height": 175
        },
        "id": "T5Va3GP2cfh7",
        "outputId": "ea0db122-a511-4609-ceaa-8ede3b1d52fd"
      },
      "execution_count": null,
      "outputs": [
        {
          "output_type": "execute_result",
          "data": {
            "text/plain": [
              "                 score\n",
              "Organised     0.995804\n",
              "Normalized    0.995804\n",
              "Standardized  0.995804\n",
              "ABS           0.995804"
            ],
            "text/html": [
              "\n",
              "  <div id=\"df-2c03893d-2f8d-41cc-8612-caf16688604d\">\n",
              "    <div class=\"colab-df-container\">\n",
              "      <div>\n",
              "<style scoped>\n",
              "    .dataframe tbody tr th:only-of-type {\n",
              "        vertical-align: middle;\n",
              "    }\n",
              "\n",
              "    .dataframe tbody tr th {\n",
              "        vertical-align: top;\n",
              "    }\n",
              "\n",
              "    .dataframe thead th {\n",
              "        text-align: right;\n",
              "    }\n",
              "</style>\n",
              "<table border=\"1\" class=\"dataframe\">\n",
              "  <thead>\n",
              "    <tr style=\"text-align: right;\">\n",
              "      <th></th>\n",
              "      <th>score</th>\n",
              "    </tr>\n",
              "  </thead>\n",
              "  <tbody>\n",
              "    <tr>\n",
              "      <th>Organised</th>\n",
              "      <td>0.995804</td>\n",
              "    </tr>\n",
              "    <tr>\n",
              "      <th>Normalized</th>\n",
              "      <td>0.995804</td>\n",
              "    </tr>\n",
              "    <tr>\n",
              "      <th>Standardized</th>\n",
              "      <td>0.995804</td>\n",
              "    </tr>\n",
              "    <tr>\n",
              "      <th>ABS</th>\n",
              "      <td>0.995804</td>\n",
              "    </tr>\n",
              "  </tbody>\n",
              "</table>\n",
              "</div>\n",
              "      <button class=\"colab-df-convert\" onclick=\"convertToInteractive('df-2c03893d-2f8d-41cc-8612-caf16688604d')\"\n",
              "              title=\"Convert this dataframe to an interactive table.\"\n",
              "              style=\"display:none;\">\n",
              "        \n",
              "  <svg xmlns=\"http://www.w3.org/2000/svg\" height=\"24px\"viewBox=\"0 0 24 24\"\n",
              "       width=\"24px\">\n",
              "    <path d=\"M0 0h24v24H0V0z\" fill=\"none\"/>\n",
              "    <path d=\"M18.56 5.44l.94 2.06.94-2.06 2.06-.94-2.06-.94-.94-2.06-.94 2.06-2.06.94zm-11 1L8.5 8.5l.94-2.06 2.06-.94-2.06-.94L8.5 2.5l-.94 2.06-2.06.94zm10 10l.94 2.06.94-2.06 2.06-.94-2.06-.94-.94-2.06-.94 2.06-2.06.94z\"/><path d=\"M17.41 7.96l-1.37-1.37c-.4-.4-.92-.59-1.43-.59-.52 0-1.04.2-1.43.59L10.3 9.45l-7.72 7.72c-.78.78-.78 2.05 0 2.83L4 21.41c.39.39.9.59 1.41.59.51 0 1.02-.2 1.41-.59l7.78-7.78 2.81-2.81c.8-.78.8-2.07 0-2.86zM5.41 20L4 18.59l7.72-7.72 1.47 1.35L5.41 20z\"/>\n",
              "  </svg>\n",
              "      </button>\n",
              "      \n",
              "  <style>\n",
              "    .colab-df-container {\n",
              "      display:flex;\n",
              "      flex-wrap:wrap;\n",
              "      gap: 12px;\n",
              "    }\n",
              "\n",
              "    .colab-df-convert {\n",
              "      background-color: #E8F0FE;\n",
              "      border: none;\n",
              "      border-radius: 50%;\n",
              "      cursor: pointer;\n",
              "      display: none;\n",
              "      fill: #1967D2;\n",
              "      height: 32px;\n",
              "      padding: 0 0 0 0;\n",
              "      width: 32px;\n",
              "    }\n",
              "\n",
              "    .colab-df-convert:hover {\n",
              "      background-color: #E2EBFA;\n",
              "      box-shadow: 0px 1px 2px rgba(60, 64, 67, 0.3), 0px 1px 3px 1px rgba(60, 64, 67, 0.15);\n",
              "      fill: #174EA6;\n",
              "    }\n",
              "\n",
              "    [theme=dark] .colab-df-convert {\n",
              "      background-color: #3B4455;\n",
              "      fill: #D2E3FC;\n",
              "    }\n",
              "\n",
              "    [theme=dark] .colab-df-convert:hover {\n",
              "      background-color: #434B5C;\n",
              "      box-shadow: 0px 1px 3px 1px rgba(0, 0, 0, 0.15);\n",
              "      filter: drop-shadow(0px 1px 2px rgba(0, 0, 0, 0.3));\n",
              "      fill: #FFFFFF;\n",
              "    }\n",
              "  </style>\n",
              "\n",
              "      <script>\n",
              "        const buttonEl =\n",
              "          document.querySelector('#df-2c03893d-2f8d-41cc-8612-caf16688604d button.colab-df-convert');\n",
              "        buttonEl.style.display =\n",
              "          google.colab.kernel.accessAllowed ? 'block' : 'none';\n",
              "\n",
              "        async function convertToInteractive(key) {\n",
              "          const element = document.querySelector('#df-2c03893d-2f8d-41cc-8612-caf16688604d');\n",
              "          const dataTable =\n",
              "            await google.colab.kernel.invokeFunction('convertToInteractive',\n",
              "                                                     [key], {});\n",
              "          if (!dataTable) return;\n",
              "\n",
              "          const docLinkHtml = 'Like what you see? Visit the ' +\n",
              "            '<a target=\"_blank\" href=https://colab.research.google.com/notebooks/data_table.ipynb>data table notebook</a>'\n",
              "            + ' to learn more about interactive tables.';\n",
              "          element.innerHTML = '';\n",
              "          dataTable['output_type'] = 'display_data';\n",
              "          await google.colab.output.renderOutput(dataTable, element);\n",
              "          const docLink = document.createElement('div');\n",
              "          docLink.innerHTML = docLinkHtml;\n",
              "          element.appendChild(docLink);\n",
              "        }\n",
              "      </script>\n",
              "    </div>\n",
              "  </div>\n",
              "  "
            ]
          },
          "metadata": {},
          "execution_count": 178
        }
      ]
    },
    {
      "cell_type": "code",
      "source": [
        "lasso = LassoCV()\n",
        "\n",
        "lasso.fit(X_train_norm, y_train)\n",
        "perm_importance = permutation_importance(lasso, X_test_norm, y_test)\n",
        "perm_importance.importances_mean"
      ],
      "metadata": {
        "colab": {
          "base_uri": "https://localhost:8080/"
        },
        "id": "ndTMzsGzg0v3",
        "outputId": "c1b82119-0dd6-47f7-d6b5-17bccdefd5fe"
      },
      "execution_count": null,
      "outputs": [
        {
          "output_type": "execute_result",
          "data": {
            "text/plain": [
              "array([ 4.89734565e-04, -7.10164206e-04, -8.31511087e-05,  6.88838684e-02,\n",
              "        1.17474185e+00,  3.13808838e-04,  2.60311826e-03,  8.56448435e-05,\n",
              "        2.81635750e-03,  0.00000000e+00])"
            ]
          },
          "metadata": {},
          "execution_count": 179
        }
      ]
    },
    {
      "cell_type": "code",
      "source": [
        "sorted = perm_importance.importances_mean.argsort()\n",
        "\n",
        "df = pd.DataFrame(perm_importance.importances_mean[sorted], X_test.columns[sorted], columns = ['Value'])\n",
        "df.plot.barh(figsize = (10,10))"
      ],
      "metadata": {
        "colab": {
          "base_uri": "https://localhost:8080/",
          "height": 72
        },
        "id": "DtRt8o39nfEQ",
        "outputId": "de0f28e4-6aa7-4910-9559-3cb5232dbb25"
      },
      "execution_count": null,
      "outputs": [
        {
          "output_type": "execute_result",
          "data": {
            "text/plain": [
              "<AxesSubplot:>"
            ]
          },
          "metadata": {},
          "execution_count": 180
        },
        {
          "output_type": "display_data",
          "data": {
            "text/plain": [
              "<Figure size 720x720 with 1 Axes>"
            ],
            "image/png": "[encoded data removed]"
          },
          "metadata": {
            "needs_background": "light"
          }
        }
      ]
    },
    {
      "cell_type": "markdown",
      "source": [
        "#Insights\n",
        " - ccpi in US economic indicators mostly influend by pce (Personal Consumption Expenditures)\n",
        " - Government could ccpi by increase Personal Consumption Expenditures."
      ],
      "metadata": {
        "id": "Wv6CjExl11eg"
      }
    },
    {
      "cell_type": "code",
      "source": [],
      "metadata": {
        "id": "jxwnKT4825fh"
      },
      "execution_count": null,
      "outputs": []
    }
  ]
}